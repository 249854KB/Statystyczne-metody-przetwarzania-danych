{
 "cells": [
  {
   "cell_type": "markdown",
   "metadata": {},
   "source": [
    "Laboratorium 6\n",
    "Opis zadania\n",
    "\n",
    "Projekt należy wykonać w grupach 2-3 osobowych. Wszystkie osoby z grupie otrzymują wspólną ocenę za całość projektu (szczegółowy opis i elementy projektu znajduje się poniżej).\n",
    "Narzędzia\n",
    "\n",
    "Preferowanym narzędziem wykonania projektu jest Jupyter Notebook - język Python (chyba, że prowadzący laboratorium wyrazi zgodę na inną technologię).\n",
    "\n",
    "W zadaniu można korzystać z bibliotek:\n",
    "\n",
    "    numpy,\n",
    "    pandas,\n",
    "    scikit-learn,\n",
    "    scipy,\n",
    "    matplotlib,\n",
    "    inne (po uzgodnienieu z prowadzącym).\n",
    "\n",
    "Wysyłanie projektu\n",
    "\n",
    "Projekt powinien składać się z następujących elementów:\n",
    "\n",
    "    Baza danych (wybrana baza danych).\n",
    "    Notatnik z implementacją rozwiązania - plik *.ipynb (+ ewentualnie pliki *.py).\n",
    "    Prezentacja - plik *.pdf oraz plik ze źródłem prezentacji (w zależności od tego w czym prezentacja była wykonana może to być plik: *.tex, *.ppt, *.pptx, *.md, *.odp). Prezentacja powinna trwać maksymalnie 5 minut (po przekroczeniu czasu prezentacja jest przerywana).\n",
    "\n",
    "Wszystkie pliki powinny zostać spakowane archiwizatorem zip i wysłane przez platformę WIKAMP.\n",
    "\n",
    "Struktura plików jaką należy oddać do oceny (przykład):\n",
    "\n",
    "+-- 📂 [NAZWA_PROJEKTU]\n",
    "    +-- 📂 projekt\n",
    "        +-- 📜 projekt.ipynb\n",
    "        +-- 📜 opcjonalny_plik.py\n",
    "    +-- 📂 prezentacja\n",
    "        +-- 📜 prezentacja.pdf\n",
    "        +-- 📜 prezentacja.md\n",
    "    +-- 📂 baza_danych\n",
    "        +-- 📜 plik.csv\n",
    "        +-- 📜 plik.info\n",
    "\n",
    "Elementy jakie powinny się znaleźć w projekcie:\n",
    "\n",
    "1. Zbiór danych (minimum 6 klas).\n",
    "\n",
    "    Sugerowana strona ze zbiorami danych (może być inne źródło, jeżeli prowadzący wyrazi zgodę): https://archive.ics.uci.edu.\n",
    "\n",
    "    UWAGA: Skład osobowy grupy oraz wybrany zbiór danych należy zgłosić prowadzącemu - kolejność zgłoszeń ma znaczenie (zabezpieczenie by dwie grupy nie wybrały takiego samego zbioru danych).\n",
    "\n",
    "2. Podział zbioru danych na treningowy i testowy.\n",
    "\n",
    "    Parametry podziału (proporcje) powinny być konfigurowalne.\n",
    "\n",
    "3. Wstępna analiza danych.\n",
    "\n",
    "    Ile jest próbek każdej klasy, ile jest cech, czy dane są znormalizowane, czy wymagają normalizacji, czy są inne czynności jakie należy wykonać, statystyki (tylko istotne - takie które wpływają na dalsze kroki).\n",
    "\n",
    "4. Wstępne przetworzenie danych (preprocessing).\n",
    "\n",
    "        Normalizacja danych,\n",
    "        podział zbioru treningowego na treningowy i walidacyjny,\n",
    "        usunięcie błędnych danych.\n",
    "\n",
    "5. Selekcja cech.\n",
    "\n",
    "    Opis jakie metody selekcji cech zastosowano, dlaczego wybrano taką metodę a nie inną.\n",
    "\n",
    "6. Klasyfikacja.\n",
    "\n",
    "    Przeprowadź klasyfikację poznanymi metodami klasyfikacji:\n",
    "\n",
    "        NN,\n",
    "        k-NN,\n",
    "        NM.\n",
    "\n",
    "    Oprócz powyższego:\n",
    "\n",
    "        przeprowadź analizę wyników,\n",
    "        wybierz metodę i uzasadnij wybór.\n",
    "\n",
    "7. Przetestuj wybrane modele na zbiorze testowym.\n",
    "\n",
    "    Wykonaj analizę i przedstaw wyniki badań.\n",
    "\n",
    "8. Wnioski.\n",
    "\n",
    "    Napisz wnioski z przeprowadzonego projektu."
   ]
  },
  {
   "cell_type": "markdown",
   "metadata": {},
   "source": [
    "## Projekt w grupie: \n",
    "\n",
    "Krzysztof Bortnowski 249854"
   ]
  },
  {
   "cell_type": "code",
   "execution_count": 133,
   "metadata": {
    "scrolled": false
   },
   "outputs": [],
   "source": [
    "# Zbiór danych - minimum 6 klas\n",
    "import numpy as np\n",
    "import pandas as pd\n",
    "pandas_table = pd.read_table('./abalone/abalone.data', delimiter=',', names=['0', '1', '2', '3', '4', '5', '6', '7', '8'])\n"
   ]
  },
  {
   "cell_type": "code",
   "execution_count": 134,
   "metadata": {},
   "outputs": [
    {
     "name": "stdout",
     "output_type": "stream",
     "text": [
      "[[ 0.455   0.365   0.095  ...  0.101   0.15   15.    ]\n",
      " [ 0.35    0.265   0.09   ...  0.0485  0.07    7.    ]\n",
      " [ 0.53    0.42    0.135  ...  0.1415  0.21    9.    ]\n",
      " ...\n",
      " [ 0.6     0.475   0.205  ...  0.2875  0.308   9.    ]\n",
      " [ 0.625   0.485   0.15   ...  0.261   0.296  10.    ]\n",
      " [ 0.71    0.555   0.195  ...  0.3765  0.495  12.    ]]\n",
      "[15.  7.  9. ...  9. 10. 12.]\n"
     ]
    }
   ],
   "source": [
    "# Usuwanie danych powodujących błędy \n",
    "# Należy usunąć 1. kolumne ponieważ nie jest ona liczbami albo zamienić płcie na liczby \n",
    "pandas_table_fixed = pandas_table.drop(columns=['0'])\n",
    "data = pandas_table_fixed.to_numpy()\n",
    "kolumna_klas = 7\n",
    "print(data)\n",
    "print(data[:,kolumna_klas])"
   ]
  },
  {
   "cell_type": "code",
   "execution_count": 136,
   "metadata": {},
   "outputs": [
    {
     "name": "stdout",
     "output_type": "stream",
     "text": [
      "3600\n",
      "576\n"
     ]
    }
   ],
   "source": [
    "# Podział na testowe i treningowe\n",
    "# parametrem pocziału jest liczba p_p. Mówi ona o rozmiarze zbioru treningowego\n",
    "p_p = 3600\n",
    "train = data[0:p_p]\n",
    "test = data[p_p+1:len(data)]\n",
    "print(len(train))\n",
    "print(len(test))"
   ]
  },
  {
   "cell_type": "markdown",
   "metadata": {},
   "source": [
    "### Analiza danych \n",
    "1. Klasą jest wiek drzewa lub inaczej mówiąc liczba jego zwoji. Jest ona liczbą całkowitą od 1 do 29 ze średnią równą 9.934\n",
    "2. Dane nie są znormalizowane i należy je znormalizować, lecz nie odstają od siebie w sposób znaczący \n",
    "\n",
    "|   x    | Length | Diam  | Height | Whole | Shucked | Viscera | Shell | Rings |\n",
    "| :----- | :----- | :---- | :----- | :---- | :------ | :------ | :---- | :---- |\n",
    "| Min    | 0.075  | 0.055 | 0.000  | 0.002 | 0.001   | 0.001   | 0.002 | 1     |\n",
    "| Max    | 0.815  | 0.650 | 1.130  | 2.826 | 1.488   | 0.760   | 1.005 | 29    |\n",
    "| Mean   | 0.524  | 0.408 | 0.140  | 0.829 | 0.359   | 0.181   | 0.239 | 9.934 |\n",
    "| SD     | 0.120  | 0.099 | 0.042  | 0.490 | 0.222   | 0.110   | 0.139 | 3.224 |\n",
    "| Correl | 0.557  | 0.575 | 0.557  | 0.540 | 0.421   | 0.504   | 0.628 | 1.0   |\n"
   ]
  },
  {
   "cell_type": "code",
   "execution_count": null,
   "metadata": {},
   "outputs": [],
   "source": []
  },
  {
   "cell_type": "code",
   "execution_count": null,
   "metadata": {},
   "outputs": [],
   "source": []
  }
 ],
 "metadata": {
  "author": {
   "emails": [
    "rsusik@kis.p.lodz.pl"
   ],
   "name": "Robert Susik"
  },
  "kernelspec": {
   "display_name": "Python 3 (ipykernel)",
   "language": "python",
   "name": "python3"
  },
  "language_info": {
   "codemirror_mode": {
    "name": "ipython",
    "version": 3
   },
   "file_extension": ".py",
   "mimetype": "text/x-python",
   "name": "python",
   "nbconvert_exporter": "python",
   "pygments_lexer": "ipython3",
   "version": "3.8.16"
  },
  "toc": {
   "base_numbering": 1,
   "nav_menu": {},
   "number_sections": true,
   "sideBar": true,
   "skip_h1_title": false,
   "title_cell": "Table of Contents",
   "title_sidebar": "Contents",
   "toc_cell": false,
   "toc_position": {},
   "toc_section_display": true,
   "toc_window_display": true
  }
 },
 "nbformat": 4,
 "nbformat_minor": 4
}
