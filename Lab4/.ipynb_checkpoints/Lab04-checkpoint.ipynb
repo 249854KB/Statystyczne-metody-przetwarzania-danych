{
 "cells": [
  {
   "cell_type": "markdown",
   "id": "bedecc37",
   "metadata": {},
   "source": [
    "## Laboratorium 4 - algorytm Najbliższej Średniej (NM)\n",
    "\n",
    "\n",
    "### Opis\n",
    "Celem laboratorium jest implementacja klasyfikatora najbliższej średniej NM (*Nearest Mean*).\n",
    "\n",
    "\n",
    "### Zadanie\n",
    "\n",
    "Należy wykonać następujące czynności w celu realizacji niniejszego zadania:\n",
    "* Wczytaj dane.\n",
    "* **Zaimplementuj klasyfikator najbliższej średniej (NM) z zastosowaniem odległości Euklidesa**.\n",
    "* Zaimplementuj funkcję, która zwraca macierz kowariancji (*uwaga: biblioteka `numpy` posiada gotową implementację `cov` z którą możesz porównać wynik*).\n",
    "\n",
    "    \\begin{equation*}\n",
    "    C = \\frac{1}{n - 1} (X - \\bar X)(X - \\bar X)^T\n",
    "    \\end{equation*}\n",
    "\n",
    "    gdzie:\n",
    "    * $X$ to macierz, \n",
    "    * $\\bar X$ to wektor ze średnimi wartościami cech. \n",
    "\n",
    "* **Zaimplementuj klasyfikator najbliższej średniej (NM) z zastosowaniem odległości Machalanobisa**.\n",
    "\n",
    "    \\begin{equation*}\n",
    "    D_j = \\sqrt{ (x - \\mu_j)^T S_j^{-1}(x - \\mu_j) },\n",
    "    \\end{equation*}\n",
    "\n",
    "    gdzie:\n",
    "    * $D_j$ to odległość klasyfikowanej próbki do $j$-tej klasy (grupy, klastra), \n",
    "    * $\\mu_j$ to wektor ze średnimi wartościami cech w obrębie $j$-tej klasy, \n",
    "    * $S_j^{-1}$ to odwrócona macierz kowariancji $j$-tej klasy, \n",
    "    * a $x$ to klasyfikowana próbka.\n",
    "\n",
    "* Opisz wyniki klasyfikatorów i porównaj je z klasyfikatorem *k*NN (porównaj w kontekście różnych metryk - obowiązkowo tablica pomyłek).\n",
    "\n",
    "> Podpowiedź 1: Do obliczenia macierzy odwrotnej możesz użyć gotową implementację, np. funkcję `linalg.inv` z biblioteki `numpy`.\n",
    "\n",
    "> Podpowiedź 2: Do wszelkich podstawowych operacji na macierzach (mnożenie, transpozycja, dodawanie, odejmowanie, itp.) możesz zastosować gotową implementację, np. bibliotekę `numpy`.\n",
    "\n",
    "> UWAGA 1: W niniejszym zadaniu jest dowolność implementacji (nie trzeba trzymać się struktury z poprzedniego zadania), jednak algorytm NM należy zaimplementować samodzielnie bez korzystania z istniających rozwiązań (jak np. z biblioteki `scikit-learn`).\n",
    "\n",
    "> UWAGA 2: Wszystkie wykonane elementy zadania powinny posiadać stosowne komentarze i opisy.\n",
    "\n",
    "\n",
    "**Pamiętaj, wyniki powinny być czytelnie opisane oraz zaprezentowane graficznie (jeżeli jest taka możliwość).**\n",
    "\n",
    "Przykład (na podstawie tablicy pomyłek):\n",
    "\n",
    "**Źle** (nie wiadomo co jest poniżej zaprezentowane, kolumny ani wiersze nie są podpisane, nie wiadomo które z nich prezentują predykcje, a które właściwe etykiety):\n",
    "```\n",
    "array([[2, 0, 0],\n",
    "       [0, 0, 1],\n",
    "       [1, 0, 2]])\n",
    "```\n",
    "\n",
    "\n",
    "<span style=\"text-decoration:underline\">Referencje</span>\n",
    "\n",
    "1. Mahalanobis, P C, _On test and measures of group divergence : theoretical formulae_, Journal and Proceedings of Asiatic Society of Bengal (New Series) Vol. 26, pp. 541-588. 1930. (URL: http://library.isical.ac.in:8080/xmlui/bitstream/handle/10263/1639/029.pdf)\n",
    "2. McLachlan, Goeffrey J. _Mahalanobis distance_, Resonance, pp. 20-26. 1999. (URL: https://www.ias.ac.in/article/fulltext/reso/004/06/0020-0026)"
   ]
  },
  {
   "cell_type": "code",
   "execution_count": 35,
   "id": "23a7414c",
   "metadata": {
    "ExecuteTime": {
     "end_time": "2023-05-24T18:18:28.032416Z",
     "start_time": "2023-05-24T18:18:28.024424Z"
    }
   },
   "outputs": [],
   "source": [
    "import numpy as np\n",
    "\n",
    "#Import danych wraz z rozdziałem na zbiór testowy i treningowy\n",
    "with open('./dataset/dataset.npz', 'rb') as f:\n",
    "    data = np.load(f)\n",
    "    train, test = data['train'], data['test']\n",
    "\n",
    "classes = [3,2, 8]\n",
    "features = [4,5,6,7]\n",
    "train_new = train[np.isin(train[:,0], classes)]\n",
    "test_new =  test[np.isin(test[:,0], classes)]\n"
   ]
  },
  {
   "cell_type": "code",
   "execution_count": 36,
   "id": "8fa6109a",
   "metadata": {
    "ExecuteTime": {
     "end_time": "2023-05-24T18:18:28.057855Z",
     "start_time": "2023-05-24T18:18:28.041222Z"
    }
   },
   "outputs": [],
   "source": [
    "# Liczenie odleglosci euklidesa\n",
    "def edist(p1, p2, l_cech):\n",
    "    edvalue=0\n",
    "    for cecha in range(l_cech):\n",
    "        edvalue +=(p1[cecha]- p2[cecha])**2\n",
    "    return edvalue**(0.5)\n",
    "\n"
   ]
  },
  {
   "cell_type": "code",
   "execution_count": 37,
   "id": "930fb01f",
   "metadata": {
    "scrolled": false
   },
   "outputs": [],
   "source": [
    "# Pomiar dokładności - działa\n",
    "from sklearn.metrics import confusion_matrix, ConfusionMatrixDisplay\n",
    "import matplotlib.pyplot as plt\n",
    "from sklearn.metrics import accuracy_score\n",
    "\n",
    "\n",
    "def ilustracja_dokladnosci(y_true, y_pred):\n",
    "    cm =confusion_matrix(y_true, y_pred, labels=classes)\n",
    "    disp = ConfusionMatrixDisplay(confusion_matrix=cm,\n",
    "                               display_labels=classes)\n",
    "    disp.plot()\n",
    "\n",
    "    plt.show()\n",
    "    print(\"Dokładność = \" + str(accuracy_score(y_true, y_pred)*100))\n"
   ]
  },
  {
   "cell_type": "code",
   "execution_count": 38,
   "id": "05ac25fc",
   "metadata": {},
   "outputs": [],
   "source": [
    "#Liczyć tylko dla jednej klasy\n",
    "def kowariancja(n, X, Avg):\n",
    "    mean = []\n",
    "    for i in range(len(X)):\n",
    "        mean.append(Avg)\n",
    "    mean = np.array(Avg)\n",
    "    X = (np.array(X)[np.newaxis]).T\n",
    "    mean = (np.array(mean)[np.newaxis]).T\n",
    "    multiply = np.dot((X - mean),(X.T - mean.T))\n",
    "    C = (1/(n-1) * multiply)\n",
    "    \n",
    "    return C"
   ]
  },
  {
   "cell_type": "code",
   "execution_count": 39,
   "id": "cafade35",
   "metadata": {
    "ExecuteTime": {
     "end_time": "2023-05-24T18:18:28.057397Z",
     "start_time": "2023-05-24T18:18:28.030436Z"
    }
   },
   "outputs": [
    {
     "name": "stdout",
     "output_type": "stream",
     "text": [
      "[[0.3437485691562506, 0.8923959391845147, 0.99044242414578, 0.6304602544940492], [0.5794154432279225, 0.9793109588032765, 0.9750700724611531, 0.654807751683208], [0.8519946952563963, 0.9727916112824473, 0.9799198474229803, 0.271272056779688]]\n"
     ]
    }
   ],
   "source": [
    "# Policzenie średnich wszystkich cech dla wszystkich kategorii -> Zrobione\n",
    "\n",
    "ilosc_danych = np.zeros(len(classes))\n",
    "i = 0\n",
    "\n",
    "# Liczenie powtórzeń\n",
    "for klasa in classes:\n",
    "        for trainer in train_new:\n",
    "            if (trainer[0] == klasa):\n",
    "                ilosc_danych[i] = ilosc_danych[i] +1\n",
    "        i=i+1\n",
    "        \n",
    "suma = [ [0] * len(features) for _ in range(len(classes))]\n",
    "srednia = [ [0] * len(features) for _ in range(len(classes))]\n",
    "Wektor_X = [ [0] * len(features) for _ in range(len(ilosc_danych))]\n",
    "#liczenie sumy\n",
    "i=0\n",
    "for klasa in classes:\n",
    "        for trainer in train_new:\n",
    "                if (trainer[0] == klasa):\n",
    "                    #print(trainer[features])\n",
    "                    Wektor_X[i].append(trainer[features])\n",
    "                    suma[i] = suma[i] + trainer[features]\n",
    "        i = i+1\n",
    "\n",
    "#liczenie średnich\n",
    "for klasa in range(0,len(classes)):\n",
    "    for cecha in range(0,len(features)):\n",
    "        #print(klasa)\n",
    "        #print(suma[klasa][cecha])\n",
    "        srednia[klasa][cecha] = suma[klasa][cecha] / ilosc_danych[klasa]\n",
    "\n",
    "print(srednia)\n",
    "\n",
    "#print(suma)\n",
    "#print(ilosc_danych)\n",
    "#print(Wektor_X[1][:])"
   ]
  },
  {
   "cell_type": "code",
   "execution_count": 40,
   "id": "2bd412e7",
   "metadata": {
    "scrolled": true
   },
   "outputs": [
    {
     "name": "stdout",
     "output_type": "stream",
     "text": [
      "[2, 3, 8, 2, 3, 8, 8, 8, 2, 8, 3, 3, 8, 8, 3, 8, 2, 2, 3, 8, 2, 3, 8, 8, 8, 2, 8, 3, 3, 8, 8, 3, 8, 2, 2, 3, 8, 2, 3, 8, 8, 8, 2, 8, 2, 3, 8, 8, 3, 8, 2, 2, 3, 8, 2, 3, 8, 8, 8, 2, 8, 3, 3, 8, 8, 3, 8, 3, 2, 3, 8, 2, 3, 8, 8, 8, 2, 8, 3, 3, 8, 8, 3, 8, 2, 2, 3, 8, 2, 3, 8, 8, 8, 2, 8, 3, 3, 8, 8, 3, 8, 2, 2, 3, 8, 2, 3, 8, 8, 8, 2, 8, 3, 3, 8, 8, 3, 8, 3, 2, 3, 8, 2, 3, 8, 8, 8, 2, 8, 3, 3, 8, 8, 3, 8, 2, 2, 3, 8, 2, 3, 8, 8, 8, 2, 8, 3, 2, 8, 8, 3, 8, 3, 2, 3, 8, 2, 3, 8, 8, 8, 2, 8, 3, 3, 8, 8, 3, 8, 2, 2, 3, 8, 2, 3, 8, 8, 8, 2, 8, 3, 2, 8, 8, 3, 8, 2]\n"
     ]
    }
   ],
   "source": [
    "\n",
    "punkt = [1,1, 1, 1]\n",
    "minimal = 100\n",
    "przyd_klasa = [] #Przydział klasowy\n",
    "\n",
    "for tester in test_new:\n",
    "    for i in range(len(features)):\n",
    "        punkt[i] = tester[features[i]]\n",
    "        \n",
    "    minimal = 100;\n",
    "    for i in range(len(classes)):\n",
    "        if edist(srednia[i],punkt,len(features)) < minimal:\n",
    "            minimal = edist(srednia[i],punkt,len(features))\n",
    "            klasa_do_dodania = classes[i]\n",
    "    przyd_klasa.append(klasa_do_dodania)\n",
    " \n",
    "print(przyd_klasa)\n",
    "#print(Wektor_X)\n",
    "Srednia_wektor = []\n",
    "    "
   ]
  },
  {
   "cell_type": "code",
   "execution_count": 41,
   "id": "bdb86ba5",
   "metadata": {},
   "outputs": [
    {
     "data": {
      "image/png": "[encoded data removed]",
      "text/plain": [
       "<Figure size 640x480 with 2 Axes>"
      ]
     },
     "metadata": {},
     "output_type": "display_data"
    },
    {
     "name": "stdout",
     "output_type": "stream",
     "text": [
      "Dokładność = 96.79144385026738\n"
     ]
    }
   ],
   "source": [
    "ilustracja_dokladnosci(test_new[:,0], przyd_klasa[:])"
   ]
  },
  {
   "cell_type": "code",
   "execution_count": 42,
   "id": "5a1fe43a",
   "metadata": {},
   "outputs": [],
   "source": [
    "# Czym jest n, M i X\n",
    "# n to liczba przy pomocy której liczymy średnią\n",
    "\n",
    "# X to nasze test_new\n",
    "# M to srednia\n",
    "#print(srednia[0])\n",
    "#print(ilosc_danych[0])\n",
    "#print(test_new[:,features])\n",
    "kowariancje =[]\n",
    "for i in range(len(classes)):\n",
    "    kowariancje.append(kowariancja(ilosc_danych[i],test_new[classes[i],features], srednia[i]))"
   ]
  },
  {
   "cell_type": "code",
   "execution_count": 43,
   "id": "cbc6f5a0",
   "metadata": {
    "ExecuteTime": {
     "end_time": "2023-05-24T18:18:28.199680Z",
     "start_time": "2023-05-24T18:18:28.191185Z"
    }
   },
   "outputs": [
    {
     "name": "stdout",
     "output_type": "stream",
     "text": [
      "[[ 1.03540155e-03 -7.59952661e-05 -2.65414169e-05 -1.48214339e-03]\n",
      " [-7.59952661e-05  5.57781711e-06  1.94805778e-06  1.08784733e-04]\n",
      " [-2.65414169e-05  1.94805778e-06  6.80360981e-07  3.79931686e-05]\n",
      " [-1.48214339e-03  1.08784733e-04  3.79931686e-05  2.12163969e-03]]\n"
     ]
    }
   ],
   "source": [
    "print(kowariancje[1])"
   ]
  },
  {
   "cell_type": "code",
   "execution_count": 44,
   "id": "4d01af2e",
   "metadata": {
    "ExecuteTime": {
     "end_time": "2023-05-24T18:18:28.204355Z",
     "start_time": "2023-05-24T18:18:28.200637Z"
    }
   },
   "outputs": [],
   "source": [
    "# x - próbka\n",
    "# u - średnia dla j-cechy\n",
    "# c - kowariancja j-cechy\n",
    "def hdist(x, u, C):\n",
    "    x = np.array(x)[np.newaxis]\n",
    "    u = np.array(u)[np.newaxis]\n",
    "    C =np.linalg.inv(C)\n",
    "   \n",
    "    hdvalue= np.dot((x-u),C)\n",
    "    hdvalue = np.dot(hdvalue,(x.T-u.T))\n",
    "    hdvalue = abs(hdvalue)\n",
    "    return hdvalue**(0.25)\n"
   ]
  },
  {
   "cell_type": "code",
   "execution_count": 48,
   "id": "572d93e5",
   "metadata": {
    "ExecuteTime": {
     "end_time": "2023-05-24T18:18:28.275080Z",
     "start_time": "2023-05-24T18:18:28.212199Z"
    }
   },
   "outputs": [],
   "source": [
    "punkt = [1,1,1, 1]\n",
    "minimal = 1000000000000000000000000000000000000000000000000000000\n",
    "przyd_klasa = [] #Przydział klasowy\n",
    "\n",
    "for tester in test_new:\n",
    "    for i in range(len(features)):\n",
    "        punkt[i] = tester[features[i]]\n",
    "    minimal = 10000000000000000000000000000000\n",
    "    for i in range(len(classes)):\n",
    "        if hdist(punkt,srednia[i],kowariancje[i]) < minimal:\n",
    "            minimal = hdist(punkt,srednia[i],kowariancje[i])\n",
    "            #print(minimal)\n",
    "            klasa_do_dodania = classes[i]\n",
    "    przyd_klasa.append(klasa_do_dodania)\n",
    " "
   ]
  },
  {
   "cell_type": "code",
   "execution_count": 49,
   "id": "af64496f",
   "metadata": {
    "ExecuteTime": {
     "end_time": "2023-05-24T18:18:28.559168Z",
     "start_time": "2023-05-24T18:18:28.555689Z"
    }
   },
   "outputs": [
    {
     "data": {
      "image/png": "[encoded data removed]",
      "text/plain": [
       "<Figure size 640x480 with 2 Axes>"
      ]
     },
     "metadata": {},
     "output_type": "display_data"
    },
    {
     "name": "stdout",
     "output_type": "stream",
     "text": [
      "Dokładność = 39.57219251336899\n"
     ]
    }
   ],
   "source": [
    "ilustracja_dokladnosci(test_new[:,0], przyd_klasa[:])"
   ]
  },
  {
   "cell_type": "markdown",
   "id": "d39d761c",
   "metadata": {},
   "source": [
    "## Wnioski\n",
    "NM z wykorzystaniem odległości Mahalanobisa jest zdecydowanie mniej dokładna od NM z wykorzystaniem odległości Euklidesa.\n",
    "Najprawdopodobniej wynika to z braku normalizacji lub niepoprawnych danych"
   ]
  },
  {
   "cell_type": "code",
   "execution_count": null,
   "id": "dc67a72e",
   "metadata": {},
   "outputs": [],
   "source": []
  }
 ],
 "metadata": {
  "author": {
   "email": "robert.susik@p.lodz.pl",
   "name": "Robert Susik"
  },
  "kernelspec": {
   "display_name": "Python 3 (ipykernel)",
   "language": "python",
   "name": "python3"
  },
  "language_info": {
   "codemirror_mode": {
    "name": "ipython",
    "version": 3
   },
   "file_extension": ".py",
   "mimetype": "text/x-python",
   "name": "python",
   "nbconvert_exporter": "python",
   "pygments_lexer": "ipython3",
   "version": "3.8.16"
  },
  "toc": {
   "base_numbering": 1,
   "nav_menu": {},
   "number_sections": true,
   "sideBar": true,
   "skip_h1_title": false,
   "title_cell": "Table of Contents",
   "title_sidebar": "Contents",
   "toc_cell": false,
   "toc_position": {},
   "toc_section_display": true,
   "toc_window_display": false
  }
 },
 "nbformat": 4,
 "nbformat_minor": 5
}
