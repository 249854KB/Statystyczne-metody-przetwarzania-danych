{
 "cells": [
  {
   "cell_type": "markdown",
   "id": "bedecc37",
   "metadata": {},
   "source": [
    "## Laboratorium 4 - algorytm Najbliższej Średniej (NM)\n",
    "\n",
    "\n",
    "### Opis\n",
    "Celem laboratorium jest implementacja klasyfikatora najbliższej średniej NM (*Nearest Mean*).\n",
    "\n",
    "\n",
    "### Zadanie\n",
    "\n",
    "Należy wykonać następujące czynności w celu realizacji niniejszego zadania:\n",
    "* Wczytaj dane.\n",
    "* **Zaimplementuj klasyfikator najbliższej średniej (NM) z zastosowaniem odległości Euklidesa**.\n",
    "* Zaimplementuj funkcję, która zwraca macierz kowariancji (*uwaga: biblioteka `numpy` posiada gotową implementację `cov` z którą możesz porównać wynik*).\n",
    "\n",
    "    \\begin{equation*}\n",
    "    C = \\frac{1}{n - 1} (X - \\bar X)(X - \\bar X)^T\n",
    "    \\end{equation*}\n",
    "\n",
    "    gdzie:\n",
    "    * $X$ to macierz, \n",
    "    * $\\bar X$ to wektor ze średnimi wartościami cech. \n",
    "\n",
    "* **Zaimplementuj klasyfikator najbliższej średniej (NM) z zastosowaniem odległości Machalanobisa**.\n",
    "\n",
    "    \\begin{equation*}\n",
    "    D_j = \\sqrt{ (x - \\mu_j)^T S_j^{-1}(x - \\mu_j) },\n",
    "    \\end{equation*}\n",
    "\n",
    "    gdzie:\n",
    "    * $D_j$ to odległość klasyfikowanej próbki do $j$-tej klasy (grupy, klastra), \n",
    "    * $\\mu_j$ to wektor ze średnimi wartościami cech w obrębie $j$-tej klasy, \n",
    "    * $S_j^{-1}$ to odwrócona macierz kowariancji $j$-tej klasy, \n",
    "    * a $x$ to klasyfikowana próbka.\n",
    "\n",
    "* Opisz wyniki klasyfikatorów i porównaj je z klasyfikatorem *k*NN (porównaj w kontekście różnych metryk - obowiązkowo tablica pomyłek).\n",
    "\n",
    "> Podpowiedź 1: Do obliczenia macierzy odwrotnej możesz użyć gotową implementację, np. funkcję `linalg.inv` z biblioteki `numpy`.\n",
    "\n",
    "> Podpowiedź 2: Do wszelkich podstawowych operacji na macierzach (mnożenie, transpozycja, dodawanie, odejmowanie, itp.) możesz zastosować gotową implementację, np. bibliotekę `numpy`.\n",
    "\n",
    "> UWAGA 1: W niniejszym zadaniu jest dowolność implementacji (nie trzeba trzymać się struktury z poprzedniego zadania), jednak algorytm NM należy zaimplementować samodzielnie bez korzystania z istniających rozwiązań (jak np. z biblioteki `scikit-learn`).\n",
    "\n",
    "> UWAGA 2: Wszystkie wykonane elementy zadania powinny posiadać stosowne komentarze i opisy.\n",
    "\n",
    "\n",
    "**Pamiętaj, wyniki powinny być czytelnie opisane oraz zaprezentowane graficznie (jeżeli jest taka możliwość).**\n",
    "\n",
    "Przykład (na podstawie tablicy pomyłek):\n",
    "\n",
    "**Źle** (nie wiadomo co jest poniżej zaprezentowane, kolumny ani wiersze nie są podpisane, nie wiadomo które z nich prezentują predykcje, a które właściwe etykiety):\n",
    "```\n",
    "array([[2, 0, 0],\n",
    "       [0, 0, 1],\n",
    "       [1, 0, 2]])\n",
    "```\n",
    "\n",
    "\n",
    "<span style=\"text-decoration:underline\">Referencje</span>\n",
    "\n",
    "1. Mahalanobis, P C, _On test and measures of group divergence : theoretical formulae_, Journal and Proceedings of Asiatic Society of Bengal (New Series) Vol. 26, pp. 541-588. 1930. (URL: http://library.isical.ac.in:8080/xmlui/bitstream/handle/10263/1639/029.pdf)\n",
    "2. McLachlan, Goeffrey J. _Mahalanobis distance_, Resonance, pp. 20-26. 1999. (URL: https://www.ias.ac.in/article/fulltext/reso/004/06/0020-0026)"
   ]
  },
  {
   "cell_type": "code",
   "execution_count": 160,
   "id": "23a7414c",
   "metadata": {
    "ExecuteTime": {
     "end_time": "2023-05-24T18:18:28.032416Z",
     "start_time": "2023-05-24T18:18:28.024424Z"
    }
   },
   "outputs": [
    {
     "name": "stdout",
     "output_type": "stream",
     "text": [
      "[[3.00000000e+00 3.00000000e+00 6.12890000e-01 ... 1.16720000e-02\n",
      "  1.21210000e-04 1.10760000e+00]\n",
      " [3.00000000e+00 1.00000000e+01 5.95710000e-01 ... 1.08810000e-02\n",
      "  6.46800000e-05 8.32210000e-01]\n",
      " [5.00000000e+00 1.10000000e+01 8.22680000e-01 ... 1.35230000e-02\n",
      "  2.75020000e-04 1.53770000e+00]\n",
      " ...\n",
      " [5.00000000e+00 3.00000000e+00 8.86221004e-01 ... 4.41266215e-03\n",
      "  2.09924833e-04 9.47233211e-01]\n",
      " [5.00000000e+00 1.00000000e+00 9.24959660e-01 ... 4.41835640e-03\n",
      "  2.06882565e-04 1.18037394e+00]\n",
      " [3.00000000e+00 2.00000000e+00 7.61480531e-01 ... 4.47887086e-03\n",
      "  5.91141052e-05 5.45180710e-01]]\n"
     ]
    }
   ],
   "source": [
    "import numpy as np\n",
    "\n",
    "#Import danych wraz z rozdziałem na zbiór testowy i treningowy\n",
    "with open('./dataset/dataset.npz', 'rb') as f:\n",
    "    data = np.load(f)\n",
    "    train, test = data['train'], data['test']\n",
    "\n",
    "classes = [3,5]\n",
    "features = [4,5,6]\n",
    "train_new = train[np.isin(train[:,0], classes)]\n",
    "test_new =  test[np.isin(test[:,0], classes)]\n",
    "print(test_new)\n"
   ]
  },
  {
   "cell_type": "code",
   "execution_count": 239,
   "id": "cafade35",
   "metadata": {
    "ExecuteTime": {
     "end_time": "2023-05-24T18:18:28.057397Z",
     "start_time": "2023-05-24T18:18:28.030436Z"
    }
   },
   "outputs": [
    {
     "name": "stdout",
     "output_type": "stream",
     "text": [
      "[[0.3437485691562506, 0.8923959391845147, 0.99044242414578], [0.6437878635015158, 0.841444822467081, 0.8883383938900382]]\n",
      "[0, 0, 0, array([0.7298 , 0.81793, 0.86491]), array([0.69555, 0.80873, 0.85263]), array([0.58345, 0.83383, 0.91754]), array([0.6025 , 0.84981, 0.87544]), array([0.6558 , 0.82432, 0.89474]), array([0.63974, 0.8499 , 0.87368]), array([0.62464, 0.85754, 0.89298]), array([0.77898905, 0.75076192, 1.00160454]), array([0.62150417, 0.68978915, 0.99080062]), array([0.63877705, 0.86738787, 0.77936936]), array([0.64789381, 0.86093215, 0.83070162]), array([0.70758293, 0.77636967, 0.92298919]), array([0.66431643, 0.98429624, 0.80651877]), array([0.54940036, 0.73373645, 1.01447428]), array([0.66703797, 0.84708309, 0.9973984 ]), array([0.68945043, 0.73850269, 0.98950119]), array([0.65601138, 0.95329921, 0.87724704]), array([0.65385464, 0.86688964, 0.98956356]), array([0.67660544, 0.76301111, 0.82631076]), array([0.61394725, 0.77600502, 0.9211134 ]), array([0.62172371, 0.77246711, 0.92672279]), array([0.65704062, 0.8337934 , 0.8524072 ]), array([0.69096197, 0.89334323, 0.90844086]), array([0.58322205, 0.94874667, 0.94137515]), array([0.61963511, 0.719117  , 0.84541823]), array([0.58172129, 0.93018472, 0.76890095]), array([0.63585169, 0.97048691, 0.84191986]), array([0.55106434, 0.79578753, 0.8553185 ]), array([0.80460307, 0.86203809, 0.93745911]), array([0.67727433, 0.9309644 , 0.96007012]), array([0.58700148, 0.72163944, 0.89501095]), array([0.55462797, 0.97273441, 0.9872229 ]), array([0.66578115, 0.90908696, 1.01467228]), array([0.63876258, 0.77302407, 0.81276726]), array([0.57787338, 0.78076981, 0.84937737]), array([0.77091031, 0.8523045 , 0.89892431]), array([0.64024307, 0.88574512, 0.82076464]), array([0.58211263, 0.88196697, 0.96891831]), array([0.53342893, 0.88293185, 0.74806978]), array([0.68498914, 0.89017744, 0.88853646]), array([0.71048532, 0.9753668 , 0.88195935]), array([0.63794158, 0.77706581, 0.79885194]), array([0.73252894, 0.93979246, 0.86855154]), array([0.75996613, 0.7784151 , 0.82042536]), array([0.64647295, 0.89683729, 0.86126273]), array([0.56126237, 0.90135952, 0.95066425]), array([0.61371718, 0.80775707, 0.841383  ]), array([0.62329071, 0.91941372, 0.80563436]), array([0.63548837, 0.88135002, 0.92064893]), array([0.74635676, 0.75409906, 0.73761738]), array([0.62202753, 0.89261185, 0.79155199]), array([0.59970273, 0.8040897 , 0.82731405]), array([0.64302291, 0.77818331, 0.91455613]), array([0.64477533, 0.82662335, 0.77855486]), array([0.64358645, 0.96006134, 0.85727037]), array([0.63236957, 0.77400143, 0.84702235]), array([0.65657581, 0.88245478, 0.95068407]), array([0.63313856, 0.87590784, 0.99027901]), array([0.65002668, 0.88001449, 0.8980046 ]), array([0.63838151, 0.7945388 , 0.75256778]), array([0.70725598, 0.80707664, 0.98048999]), array([0.6787128 , 0.95643824, 0.99530425]), array([0.56909993, 0.89585274, 0.79348578]), array([0.78052954, 0.90521935, 0.83854292]), array([0.65867671, 0.73842132, 0.88296175]), array([0.54810882, 0.77922324, 1.00238088]), array([0.53841155, 0.87696897, 0.81283943]), array([0.63928381, 0.87942881, 0.92788759]), array([0.6258922 , 0.94734651, 0.88792088]), array([0.64956847, 0.74094093, 0.98980489]), array([0.73262205, 0.89457838, 0.92460194]), array([0.71594555, 0.78209547, 0.92834273]), array([0.54759721, 0.84694819, 1.0129199 ]), array([0.57312306, 0.71959859, 0.8631462 ]), array([0.61299421, 0.81741653, 1.00312711]), array([0.57828889, 0.72154387, 0.77974044]), array([0.62875757, 0.72477599, 0.84194587])]\n"
     ]
    }
   ],
   "source": [
    "ilosc_danych = np.zeros(len(classes))\n",
    "i = 0\n",
    "\n",
    "# Liczenie powtórzeń\n",
    "for klasa in classes:\n",
    "        for trainer in train_new:\n",
    "            if (trainer[0] == klasa):\n",
    "                ilosc_danych[i] = ilosc_danych[i] +1\n",
    "        i=i+1\n",
    "        \n",
    "suma = [ [0] * len(features) for _ in range(len(classes))]\n",
    "srednia = [ [0] * len(features) for _ in range(len(classes))]\n",
    "Wektor_X = [ [0] * len(features) for _ in range(len(ilosc_danych))]\n",
    "#liczenie sumy\n",
    "i=0\n",
    "for klasa in classes:\n",
    "        for trainer in train_new:\n",
    "                if (trainer[0] == klasa):\n",
    "                    #print(trainer[features])\n",
    "                    Wektor_X[i].append(trainer[features])\n",
    "                    suma[i] = suma[i] + trainer[features]\n",
    "        i = i+1\n",
    "\n",
    "#liczenie średnich\n",
    "for klasa in range(0,len(classes)):\n",
    "    for cecha in range(0,len(features)):\n",
    "        #print(klasa)\n",
    "        #print(suma[klasa][cecha])\n",
    "        srednia[klasa][cecha] = suma[klasa][cecha] / ilosc_danych[klasa]\n",
    "\n",
    "print(srednia)\n",
    "#print(suma)\n",
    "#print(ilosc_danych)\n",
    "print(Wektor_X[1][:])"
   ]
  },
  {
   "cell_type": "code",
   "execution_count": 192,
   "id": "c0cdacd3",
   "metadata": {
    "ExecuteTime": {
     "end_time": "2023-05-24T18:18:28.057855Z",
     "start_time": "2023-05-24T18:18:28.041222Z"
    }
   },
   "outputs": [],
   "source": [
    "def edist(p1, p2, l_cech):\n",
    "    edvalue=0\n",
    "    for cecha in range(l_cech):\n",
    "        edvalue +=(p1[cecha]- p2[cecha])**2\n",
    "    return edvalue**(0.5)\n",
    "\n"
   ]
  },
  {
   "cell_type": "code",
   "execution_count": 211,
   "id": "2bd412e7",
   "metadata": {},
   "outputs": [
    {
     "name": "stdout",
     "output_type": "stream",
     "text": [
      "[3, 3, 3, 5, 3, 5, 3, 5, 3, 3, 3, 5, 3, 5, 3, 3, 3, 3, 5, 3, 5, 3, 5, 3, 3, 3, 5, 3, 5, 3, 3, 3, 3, 5, 3, 5, 3, 5, 3, 3, 3, 5, 3, 5, 3, 3, 3, 3, 5, 3, 5, 3, 5, 3, 3, 3, 5, 3, 5, 3, 3, 3, 3, 5, 3, 5, 3, 5, 3, 3, 3, 5, 3, 5, 3, 3, 3, 3, 5, 3, 5, 3, 5, 3, 3, 3, 5, 3, 5, 3, 3, 3, 3, 5, 3, 5, 3, 5, 3, 3, 3, 5, 3, 5, 3, 3, 3, 3, 5, 3, 5, 3, 5, 3, 3, 3, 5, 3, 5, 3, 3, 3, 3, 5, 3, 5, 3, 5, 3, 3, 3, 5, 3, 5, 3, 3, 3, 3, 5, 3, 5, 3, 5, 3, 3, 3, 5, 3, 5, 3, 3, 3, 3, 5, 3, 5, 3, 5, 3, 3, 3, 5, 3, 5, 3]\n",
      "[array([0.35318, 0.89086, 0.99825]), array([0.29593, 0.91585, 0.99825]), array([0.36317, 0.9211 , 0.98772]), array([0.3446 , 0.90487, 0.99649]), array([0.3846 , 0.90355, 0.99649]), array([0.30382361, 0.97275288, 1.04904262]), array([0.25229802, 0.87681774, 1.09275575]), array([0.39312331, 0.82565976, 0.98901   ]), array([0.2921524 , 0.77027558, 0.92476442]), array([0.41018094, 0.79816703, 1.11261905]), array([0.2993928 , 0.78552216, 0.87559723]), array([0.26264162, 0.86392804, 1.04260931]), array([0.43888397, 0.91424568, 0.89250726]), array([0.38212043, 0.9335216 , 0.93256783]), array([0.3140912 , 0.88175233, 0.92051883]), array([0.29001067, 0.86564988, 1.02728598]), array([0.22943603, 1.02999081, 1.13562647]), array([0.3493038 , 0.97853828, 0.91322419]), array([0.39005115, 0.79073625, 1.12259847]), array([0.34505736, 0.96039229, 0.99684876]), array([0.27845529, 0.95115964, 1.06374631]), array([0.27650446, 1.04792103, 1.13266424]), array([0.4280083 , 0.84152514, 0.95068781]), array([0.35342319, 0.88857822, 0.90929146]), array([0.39887572, 0.82697445, 0.99958236]), array([0.36208689, 0.78020662, 0.9878317 ]), array([0.3541284 , 0.88054081, 0.88892787]), array([0.34852878, 0.80158422, 0.90061035]), array([0.41179816, 0.82979343, 1.06072376]), array([0.31844473, 1.02249522, 0.90586675]), array([0.42050553, 1.01698642, 0.97408263]), array([0.23294923, 1.03515863, 1.00703548]), array([0.4042902, 0.8241531, 0.9684618]), array([0.36046854, 0.9256096 , 0.94377648]), array([0.4484757 , 0.87571733, 1.03074292]), array([0.38393801, 0.81218686, 1.01919433]), array([0.32020884, 0.99195068, 1.13723033]), array([0.32813859, 0.83311408, 1.11279829]), array([0.29696923, 0.8845789 , 0.97780263]), array([0.43378441, 0.81857917, 0.94254857]), array([0.33889388, 0.93272542, 1.01407929]), array([0.3471258 , 1.0097621 , 1.02883365]), array([0.31273954, 0.89099543, 0.90407825]), array([0.29028885, 0.77522165, 0.86324068]), array([0.44393536, 0.86759371, 0.98789341]), array([0.30897058, 0.88195602, 0.92268261]), array([0.36094016, 0.99992051, 0.98885311]), array([0.38766639, 0.97630324, 0.91689814]), array([0.33413028, 0.83613057, 1.11977467]), array([0.37483129, 0.86270752, 0.92646703]), array([0.28711626, 0.77275702, 1.11849942]), array([0.22867887, 0.88150749, 0.97371142]), array([0.33197697, 0.90202681, 0.97946685]), array([0.37691101, 0.88924293, 0.89213385]), array([0.32793654, 0.92993234, 0.91933869]), array([0.7298 , 0.81793, 0.86491]), array([0.69555, 0.80873, 0.85263]), array([0.58345, 0.83383, 0.91754]), array([0.6025 , 0.84981, 0.87544]), array([0.6558 , 0.82432, 0.89474]), array([0.63974, 0.8499 , 0.87368]), array([0.62464, 0.85754, 0.89298]), array([0.77898905, 0.75076192, 1.00160454]), array([0.62150417, 0.68978915, 0.99080062]), array([0.63877705, 0.86738787, 0.77936936]), array([0.64789381, 0.86093215, 0.83070162]), array([0.70758293, 0.77636967, 0.92298919]), array([0.66431643, 0.98429624, 0.80651877]), array([0.54940036, 0.73373645, 1.01447428]), array([0.66703797, 0.84708309, 0.9973984 ]), array([0.68945043, 0.73850269, 0.98950119]), array([0.65601138, 0.95329921, 0.87724704]), array([0.65385464, 0.86688964, 0.98956356]), array([0.67660544, 0.76301111, 0.82631076]), array([0.61394725, 0.77600502, 0.9211134 ]), array([0.62172371, 0.77246711, 0.92672279]), array([0.65704062, 0.8337934 , 0.8524072 ]), array([0.69096197, 0.89334323, 0.90844086]), array([0.58322205, 0.94874667, 0.94137515]), array([0.61963511, 0.719117  , 0.84541823]), array([0.58172129, 0.93018472, 0.76890095]), array([0.63585169, 0.97048691, 0.84191986]), array([0.55106434, 0.79578753, 0.8553185 ]), array([0.80460307, 0.86203809, 0.93745911]), array([0.67727433, 0.9309644 , 0.96007012]), array([0.58700148, 0.72163944, 0.89501095]), array([0.55462797, 0.97273441, 0.9872229 ]), array([0.66578115, 0.90908696, 1.01467228]), array([0.63876258, 0.77302407, 0.81276726]), array([0.57787338, 0.78076981, 0.84937737]), array([0.77091031, 0.8523045 , 0.89892431]), array([0.64024307, 0.88574512, 0.82076464]), array([0.58211263, 0.88196697, 0.96891831]), array([0.53342893, 0.88293185, 0.74806978]), array([0.68498914, 0.89017744, 0.88853646]), array([0.71048532, 0.9753668 , 0.88195935]), array([0.63794158, 0.77706581, 0.79885194]), array([0.73252894, 0.93979246, 0.86855154]), array([0.75996613, 0.7784151 , 0.82042536]), array([0.64647295, 0.89683729, 0.86126273]), array([0.56126237, 0.90135952, 0.95066425]), array([0.61371718, 0.80775707, 0.841383  ]), array([0.62329071, 0.91941372, 0.80563436]), array([0.63548837, 0.88135002, 0.92064893]), array([0.74635676, 0.75409906, 0.73761738]), array([0.62202753, 0.89261185, 0.79155199]), array([0.59970273, 0.8040897 , 0.82731405]), array([0.64302291, 0.77818331, 0.91455613]), array([0.64477533, 0.82662335, 0.77855486]), array([0.64358645, 0.96006134, 0.85727037]), array([0.63236957, 0.77400143, 0.84702235]), array([0.65657581, 0.88245478, 0.95068407]), array([0.63313856, 0.87590784, 0.99027901]), array([0.65002668, 0.88001449, 0.8980046 ]), array([0.63838151, 0.7945388 , 0.75256778]), array([0.70725598, 0.80707664, 0.98048999]), array([0.6787128 , 0.95643824, 0.99530425]), array([0.56909993, 0.89585274, 0.79348578]), array([0.78052954, 0.90521935, 0.83854292]), array([0.65867671, 0.73842132, 0.88296175]), array([0.54810882, 0.77922324, 1.00238088]), array([0.53841155, 0.87696897, 0.81283943]), array([0.63928381, 0.87942881, 0.92788759]), array([0.6258922 , 0.94734651, 0.88792088]), array([0.64956847, 0.74094093, 0.98980489]), array([0.73262205, 0.89457838, 0.92460194]), array([0.71594555, 0.78209547, 0.92834273]), array([0.54759721, 0.84694819, 1.0129199 ]), array([0.57312306, 0.71959859, 0.8631462 ]), array([0.61299421, 0.81741653, 1.00312711]), array([0.57828889, 0.72154387, 0.77974044]), array([0.62875757, 0.72477599, 0.84194587])]\n"
     ]
    }
   ],
   "source": [
    "\n",
    "punkt = [1,1,1]\n",
    "minimal = 100\n",
    "przyd_klasa = []\n",
    "\n",
    "for tester in test_new:\n",
    "    p_licz=0\n",
    "    #punkt 3 cech\n",
    "    for cecha in features:\n",
    "        punkt[p_licz] = tester[cecha]\n",
    "        p_licz = p_licz+1\n",
    "    k_licz=0\n",
    "    minimal = 100;\n",
    "    for klasa in classes:\n",
    "        if edist(srednia[k_licz],punkt,len(features)) < minimal:\n",
    "            minimal = edist(srednia[k_licz],punkt,len(features))\n",
    "            przyd_klasa.append(klasa)\n",
    "        k_licz=k_licz+1\n",
    "    #print(przyd_klasa)\n",
    "            \n",
    "print(przyd_klasa)\n",
    "print(Wektor_X)\n",
    "Srednia_wektor = []\n",
    "for x in range(len(Wektor_X)):\n",
    "        Srednia_wektor.append(1)\n",
    "def kowariancja(n, X, Avg):\n",
    "    C = (1/(n-1) * (X - Avg) * np.transpose(X - Avg))\n",
    "    \n",
    "    "
   ]
  },
  {
   "cell_type": "code",
   "execution_count": 24,
   "id": "75598b13",
   "metadata": {
    "ExecuteTime": {
     "end_time": "2023-05-24T18:18:28.058952Z",
     "start_time": "2023-05-24T18:18:28.046955Z"
    }
   },
   "outputs": [],
   "source": [
    "def nm(train, to_test, features):\n",
    "    min = 0\n",
    "    predicted = None\n",
    "    for training_element in train:\n",
    "        ret = edist(to_test, training_element, features)\n",
    "        if min == 0 or min > ret:\n",
    "            min = ret\n",
    "            predicted = training_element\n",
    "    return predicted[0]\n",
    "\n",
    "\n"
   ]
  },
  {
   "cell_type": "code",
   "execution_count": 25,
   "id": "471e025b",
   "metadata": {
    "ExecuteTime": {
     "end_time": "2023-05-24T18:18:28.073898Z",
     "start_time": "2023-05-24T18:18:28.065638Z"
    }
   },
   "outputs": [
    {
     "name": "stdout",
     "output_type": "stream",
     "text": [
      "100.0\n"
     ]
    }
   ],
   "source": [
    "from sklearn.metrics import accuracy_score\n",
    "\n",
    "features = list(range(2, 16))\n",
    "predict_list = []\n",
    "for to_test in test_new:\n",
    "    predict_list.append(nm(class_mean_list, to_test, features))\n",
    "print(accuracy_score(true_list, predict_list) * 100)"
   ]
  },
  {
   "cell_type": "code",
   "execution_count": 26,
   "id": "007436de",
   "metadata": {
    "ExecuteTime": {
     "end_time": "2023-05-24T18:18:28.193805Z",
     "start_time": "2023-05-24T18:18:28.072514Z"
    }
   },
   "outputs": [
    {
     "data": {
      "image/png": "[encoded data removed]",
      "text/plain": [
       "<Figure size 640x480 with 1 Axes>"
      ]
     },
     "metadata": {},
     "output_type": "display_data"
    }
   ],
   "source": [
    "from sklearn.metrics import ConfusionMatrixDisplay\n",
    "\n",
    "disp = ConfusionMatrixDisplay.from_predictions(true_list, predict_list, colorbar=False)"
   ]
  },
  {
   "cell_type": "code",
   "execution_count": 21,
   "id": "cbc6f5a0",
   "metadata": {
    "ExecuteTime": {
     "end_time": "2023-05-24T18:18:28.199680Z",
     "start_time": "2023-05-24T18:18:28.191185Z"
    }
   },
   "outputs": [
    {
     "data": {
      "text/plain": [
       "0.7657342657342657"
      ]
     },
     "execution_count": 21,
     "metadata": {},
     "output_type": "execute_result"
    }
   ],
   "source": [
    "from sklearn.metrics import accuracy_score\n",
    "\n",
    "accuracy_score(true_list, predict_list)"
   ]
  },
  {
   "cell_type": "code",
   "execution_count": 22,
   "id": "4d01af2e",
   "metadata": {
    "ExecuteTime": {
     "end_time": "2023-05-24T18:18:28.204355Z",
     "start_time": "2023-05-24T18:18:28.200637Z"
    }
   },
   "outputs": [],
   "source": [
    "\n",
    "\n",
    "def calc_X(train_list, mean_list):\n",
    "    train_list = np.array(train_list)\n",
    "    mean_list = np.array(mean_list)\n",
    "\n",
    "    train_transpose = train_list.transpose()\n",
    "    mean = []\n",
    "    for i in range(len(train_list)):\n",
    "        mean.append(mean_list)\n",
    "    mean = np.array(mean)\n",
    "    mean_transpose = mean.transpose()\n",
    "\n",
    "    return train_transpose - mean_transpose\n"
   ]
  },
  {
   "cell_type": "code",
   "execution_count": 22,
   "id": "97217170",
   "metadata": {
    "ExecuteTime": {
     "end_time": "2023-05-24T18:18:28.210215Z",
     "start_time": "2023-05-24T18:18:28.206033Z"
    }
   },
   "outputs": [],
   "source": []
  },
  {
   "cell_type": "code",
   "execution_count": 23,
   "id": "572d93e5",
   "metadata": {
    "ExecuteTime": {
     "end_time": "2023-05-24T18:18:28.275080Z",
     "start_time": "2023-05-24T18:18:28.212199Z"
    }
   },
   "outputs": [],
   "source": [
    "x_list = []\n",
    "for index in clas_list:\n",
    "    class_list = list(filter(lambda data: data[0] == index, train_new))\n",
    "    class_list_cleared = []\n",
    "    for element in class_list:\n",
    "        class_list_cleared.append(element[2:])\n",
    "    x_list.append(calc_X(class_list_cleared, class_mean_list[index - 2][2:]))"
   ]
  },
  {
   "cell_type": "code",
   "execution_count": 24,
   "id": "700aad40",
   "metadata": {
    "ExecuteTime": {
     "end_time": "2023-05-24T18:18:28.275307Z",
     "start_time": "2023-05-24T18:18:28.222582Z"
    }
   },
   "outputs": [],
   "source": [
    "c_list = []\n",
    "for element in x_list:\n",
    "    element = np.array(element)\n",
    "    c_list.append(np.array(np.dot(element, element.transpose()) / (len(train_new) - 1)))"
   ]
  },
  {
   "cell_type": "code",
   "execution_count": 24,
   "id": "b230ef3c",
   "metadata": {
    "ExecuteTime": {
     "end_time": "2023-05-24T18:18:28.275399Z",
     "start_time": "2023-05-24T18:18:28.230002Z"
    }
   },
   "outputs": [],
   "source": []
  },
  {
   "cell_type": "code",
   "execution_count": 24,
   "id": "b135293c",
   "metadata": {
    "ExecuteTime": {
     "end_time": "2023-05-24T18:18:28.275480Z",
     "start_time": "2023-05-24T18:18:28.235118Z"
    }
   },
   "outputs": [],
   "source": []
  },
  {
   "cell_type": "code",
   "execution_count": 24,
   "id": "18ec0da9",
   "metadata": {
    "ExecuteTime": {
     "end_time": "2023-05-24T18:18:28.275704Z",
     "start_time": "2023-05-24T18:18:28.245685Z"
    }
   },
   "outputs": [],
   "source": []
  },
  {
   "cell_type": "code",
   "execution_count": 24,
   "id": "5a3dbf47",
   "metadata": {
    "ExecuteTime": {
     "end_time": "2023-05-24T18:18:28.275814Z",
     "start_time": "2023-05-24T18:18:28.251002Z"
    }
   },
   "outputs": [],
   "source": []
  },
  {
   "cell_type": "code",
   "execution_count": 24,
   "id": "3eb1cdaf",
   "metadata": {
    "ExecuteTime": {
     "end_time": "2023-05-24T18:18:28.276156Z",
     "start_time": "2023-05-24T18:18:28.259044Z"
    }
   },
   "outputs": [],
   "source": []
  },
  {
   "cell_type": "code",
   "execution_count": 25,
   "id": "e14d514c",
   "metadata": {
    "ExecuteTime": {
     "end_time": "2023-05-24T18:18:28.302261Z",
     "start_time": "2023-05-24T18:18:28.265453Z"
    }
   },
   "outputs": [],
   "source": [
    "def nmm(class_mean, to_test, cov):\n",
    "    min = 0\n",
    "    predicted = None\n",
    "    for en_index, training_element in enumerate(class_mean):\n",
    "\n",
    "        dif = to_test[2:] - training_element[2:]\n",
    "        dif = np.array(dif)\n",
    "        inverse = np.array(np.linalg.inv(cov[en_index]))\n",
    "\n",
    "        value = (dif.transpose() @ inverse @ dif) ** 0.5\n",
    "        if min == 0 or min > value:\n",
    "            min = value\n",
    "            predicted = to_test\n",
    "    return predicted[0]\n",
    "\n"
   ]
  },
  {
   "cell_type": "code",
   "execution_count": 26,
   "id": "6d459be3",
   "metadata": {
    "ExecuteTime": {
     "end_time": "2023-05-24T18:18:28.433008Z",
     "start_time": "2023-05-24T18:18:28.277977Z"
    }
   },
   "outputs": [
    {
     "name": "stdout",
     "output_type": "stream",
     "text": [
      "1.0\n"
     ]
    }
   ],
   "source": [
    "from sklearn.metrics import accuracy_score\n",
    "\n",
    "predict_list = []\n",
    "for to_test in test_new:\n",
    "    predict_list.append(nmm(class_mean_list, to_test, c_list))\n",
    "print(accuracy_score(true_list, predict_list))"
   ]
  },
  {
   "cell_type": "code",
   "execution_count": 27,
   "id": "21322447",
   "metadata": {
    "ExecuteTime": {
     "end_time": "2023-05-24T18:18:28.556448Z",
     "start_time": "2023-05-24T18:18:28.434197Z"
    }
   },
   "outputs": [
    {
     "data": {
      "image/png": "[encoded data removed]",
      "text/plain": [
       "<Figure size 640x480 with 1 Axes>"
      ]
     },
     "metadata": {},
     "output_type": "display_data"
    }
   ],
   "source": [
    "disp = ConfusionMatrixDisplay.from_predictions(true_list, predict_list, colorbar=False, cmap='inferno')"
   ]
  },
  {
   "cell_type": "code",
   "execution_count": 27,
   "id": "af64496f",
   "metadata": {
    "ExecuteTime": {
     "end_time": "2023-05-24T18:18:28.559168Z",
     "start_time": "2023-05-24T18:18:28.555689Z"
    }
   },
   "outputs": [],
   "source": []
  }
 ],
 "metadata": {
  "author": {
   "email": "robert.susik@p.lodz.pl",
   "name": "Robert Susik"
  },
  "kernelspec": {
   "display_name": "Python 3 (ipykernel)",
   "language": "python",
   "name": "python3"
  },
  "language_info": {
   "codemirror_mode": {
    "name": "ipython",
    "version": 3
   },
   "file_extension": ".py",
   "mimetype": "text/x-python",
   "name": "python",
   "nbconvert_exporter": "python",
   "pygments_lexer": "ipython3",
   "version": "3.8.16"
  },
  "toc": {
   "base_numbering": 1,
   "nav_menu": {},
   "number_sections": true,
   "sideBar": true,
   "skip_h1_title": false,
   "title_cell": "Table of Contents",
   "title_sidebar": "Contents",
   "toc_cell": false,
   "toc_position": {},
   "toc_section_display": true,
   "toc_window_display": false
  }
 },
 "nbformat": 4,
 "nbformat_minor": 5
}
