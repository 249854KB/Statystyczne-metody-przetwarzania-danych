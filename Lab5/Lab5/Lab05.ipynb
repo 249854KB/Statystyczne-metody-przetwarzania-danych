{
 "cells": [
  {
   "cell_type": "markdown",
   "metadata": {},
   "source": [
    "# Statystyczne metody przetwarzania danych \n",
    "\n",
    "## Laboratorium 5 - normalizacja, selekcja cech.\n",
    "\n",
    "\n",
    "### Opis\n",
    "Celem laboratorium jest przeprowadzenie normalizacji i selekcji cech.\n",
    "\n",
    "\n",
    "### Zbiór danych\n",
    "\n",
    "Zbiór danych znajduje się w katalogu `dataset/*`. Jest to zmodyfikowany zbiór danych znajdujący się pod adresem: <https://archive.ics.uci.edu/ml/datasets/leaf>.\n",
    "\n",
    "### Przesyłanie zadań\n",
    "\n",
    "Wszystkie pliki należy spakować archiwizatorem **zip** i przesłać za pośrednictwem platformy WIKAMP. Poniżej oczekiwana zawartość archiwum:\n",
    "\n",
    "```\n",
    "+-- 📂 [IMIE.NAZWISKO].zip\n",
    "    +-- 📜 Lab05.ipynb\n",
    "    +-- 📂 dataset\n",
    "        +-- 📜 dataset.npz\n",
    "        +-- 📜 ReadMe.pdf\n",
    "```\n",
    "\n",
    "**Pamiętaj, wyniki powinny być czytelnie opisane oraz zaprezentowane graficznie (jeżeli jest taka możliwość).**\n",
    "\n",
    "\n",
    "### Zadanie\n",
    "\n",
    "Należy wykonać następujące czynności w celu realizacji niniejszego zadania:\n",
    "\n",
    "#### Normalizacja\n",
    "* Wczytaj dane.\n",
    "* Znormalizuj dane (możesz użyć [MinMaxScaler](https://scikit-learn.org/stable/modules/generated/sklearn.preprocessing.MinMaxScaler.html) z biblioteki scikit-learn.\n",
    "* Przeprowadź eksperyment z zastosowaniem algorytmu [kNN](https://scikit-learn.org/stable/modules/generated/sklearn.neighbors.KNeighborsClassifier.html) dla danych znormalizowanych oraz bez normalizacji.\n",
    "    * W eksperymencie wybierz 5 klas oraz 10 losowych cech.\n",
    "    * Dla danych znormalizowanych i bez normalizacji zastosuj te same cechy i klasy.\n",
    "* Przedstaw porównanie wyników klasyfikacji na danych znormalizowanych i bez normalizacji.\n",
    "* Napisz wnioski.\n"
   ]
  },
  {
   "cell_type": "code",
   "execution_count": 77,
   "metadata": {},
   "outputs": [],
   "source": [
    "import numpy as np\n",
    "\n",
    "#Import danych wraz z rozdziałem na zbiór testowy i treningowy\n",
    "with open('./dataset/dataset.npz', 'rb') as f:\n",
    "    data = np.load(f)\n",
    "    train, test = data['train'], data['test']\n",
    "\n",
    "classes = [1, 4, 7, 11, 13]\n",
    "features = [3, 4,5, 6, 7, 8, 9, 11, 13, 14]\n",
    "train_new = train[np.isin(train[:,0], classes)]\n",
    "test_new =  test[np.isin(test[:,0], classes)]\n",
    "#print(test_new)\n"
   ]
  },
  {
   "cell_type": "code",
   "execution_count": 78,
   "metadata": {},
   "outputs": [],
   "source": [
    "\n",
    "def Accuracy(testowa, predykcje):\n",
    "    T =0\n",
    "    for i in range(len(testowa)):\n",
    "        if testowa[i,0] == predykcje[i]:\n",
    "            T=T+1\n",
    "    return T / len(test_new) * 100\n"
   ]
  },
  {
   "cell_type": "code",
   "execution_count": 80,
   "metadata": {},
   "outputs": [
    {
     "name": "stdout",
     "output_type": "stream",
     "text": [
      "76.0\n"
     ]
    }
   ],
   "source": [
    "## from sklearn.preprocessing import MinMaxScaler\n",
    "import numpy as np\n",
    "from sklearn.neighbors import KNeighborsClassifier\n",
    "\n",
    "k_nn_bez_norm = KNeighborsClassifier(n_neighbors= 3)\n",
    "k_nn_bez_norm.fit(train_new[:,features], train_new[:,0])\n",
    "k_nn_bez_norm_list = k_nn_bez_norm.predict(test_new[:,features])\n",
    "#print(k_nn_bez_norm_list)\n",
    "dok1 = Accuracy(test_new, k_nn_bez_norm_list)\n",
    "print(dok1)\n",
    "\n",
    "\n",
    "scaler = MinMaxScaler()\n",
    "scaler.fit(train_new[:,2:])\n",
    "\n",
    "przeskelowane_trenowane = scaler.transform(train_new[:,2:])\n",
    "przeskalowane_testowe = scaler.transform(test_new[:,2:])"
   ]
  },
  {
   "cell_type": "code",
   "execution_count": 82,
   "metadata": {
    "scrolled": true
   },
   "outputs": [
    {
     "name": "stdout",
     "output_type": "stream",
     "text": [
      "[ 1  2  3  4  5  6  7  9 11 12]\n",
      "84.0\n"
     ]
    }
   ],
   "source": [
    "twos = np.ones(len(features), int)*2\n",
    "features_new = features - twos\n",
    "print(features_new)\n",
    "przeskelowane_trenowane.shape\n",
    "k_nn_norm = KNeighborsClassifier(n_neighbors= 3)\n",
    "k_nn_norm.fit(przeskelowane_trenowane[:,features_new], train_new[:,0])\n",
    "k_nn_norm_list = k_nn_norm.predict(przeskalowane_testowe[:,features_new])\n",
    "dok10los = Accuracy(test_new, k_nn_norm_list)\n",
    "print(dok10los)"
   ]
  },
  {
   "cell_type": "markdown",
   "metadata": {},
   "source": [
    "# Wnioski:\n",
    "Normalizacja cech zwiększa w znacznym stopniu poprawność wyniku"
   ]
  },
  {
   "cell_type": "markdown",
   "metadata": {},
   "source": [
    "#### Selekcja cech\n",
    "Na tym samym podzbiorze danych (co w poprzednim zadaniu).\n",
    "* Przeprowadź selekcję cech (wybierz {2, 5} cech) za pomocą metod poznanych na wykładzie (np. z zastosowaniem współczynnika Fishera) lub istniejących implementacji z biblioteki [scikit-learn](https://scikit-learn.org/stable/modules/feature_selection.html) (np. [SelectKBest](https://scikit-learn.org/stable/modules/generated/sklearn.feature_selection.SelectKBest.html#sklearn.feature_selection.SelectKBest)).\n",
    "* Przeprowadź klasyfikację na wybranych cechach.\n",
    "* Porównaj wyniki klasyfikacji dla różnej liczby cech (z normalizacją):\n",
    "    * 10 losowo wybranych cech (wynik z poprzedniego zadania),\n",
    "    * 10 cech wybranych za pomocą algorytmu selekcji cech,\n",
    "    * 5 losowo wybranych cech,\n",
    "    * 5 cech wybranych za pomocą algorytmu selekcji cech,\n",
    "    * 2 losowo wybrane cechy,\n",
    "    * 2 cechy wybrane za pomocą algorytmu selekcji cech.\n",
    "* Opisz wyniki i napisz wnioski. Postaraj się przedstawić wszystkie wyniki na jednym wykresie.\n"
   ]
  },
  {
   "cell_type": "code",
   "execution_count": 83,
   "metadata": {},
   "outputs": [
    {
     "name": "stdout",
     "output_type": "stream",
     "text": [
      "87.63636363636364\n"
     ]
    }
   ],
   "source": [
    "from sklearn.feature_selection import SelectKBest\n",
    "\n",
    "train_new = train[np.isin(train[:,0], classes)]\n",
    "test_new =  test[np.isin(test[:,0], classes)]\n",
    "\n",
    "selector = SelectKBest(k=10).fit(przeskelowane_trenowane, train_new[:,0] )# wybieramy k \"najlepszych\" cech\"\n",
    "Wyselektowane_treningowe = selector.transform(przeskelowane_trenowane)# wykonujemy selekce na zbiorze\n",
    "Wyselektowane_testowe = selector.transform(przeskalowane_testowe)# wykonujemy selekce na zbiorze\n",
    "\n",
    "k_nn_bez_norm = KNeighborsClassifier(n_neighbors= 3)\n",
    "k_nn_bez_norm.fit(Wyselektowane_treningowe, train_new[:,0])\n",
    "k_nn_bez_norm_list = k_nn_bez_norm.predict(Wyselektowane_testowe)\n",
    "#print(k_nn_bez_norm_list)\n",
    "dok10wyb = Accuracy(test_new, k_nn_bez_norm_list)\n",
    "print(dok10wyb)"
   ]
  },
  {
   "cell_type": "code",
   "execution_count": 85,
   "metadata": {},
   "outputs": [
    {
     "name": "stdout",
     "output_type": "stream",
     "text": [
      "74.54545454545455\n"
     ]
    }
   ],
   "source": [
    "selector = SelectKBest(k=5).fit(przeskelowane_trenowane, train_new[:,0] )# wybieramy k \"najlepszych\" cech\"\n",
    "Wyselektowane_treningowe = selector.transform(przeskelowane_trenowane)# wykonujemy selekce na zbiorze\n",
    "Wyselektowane_testowe = selector.transform(przeskalowane_testowe)# wykonujemy selekce na zbiorze\n",
    "\n",
    "k_nn_bez_norm = KNeighborsClassifier(n_neighbors= 3)\n",
    "k_nn_bez_norm.fit(Wyselektowane_treningowe, train_new[:,0])\n",
    "k_nn_bez_norm_list = k_nn_bez_norm.predict(Wyselektowane_testowe)\n",
    "#print(k_nn_bez_norm_list)\n",
    "dok5wyb = Accuracy(test_new, k_nn_bez_norm_list)\n",
    "print(dok5wyb)"
   ]
  },
  {
   "cell_type": "code",
   "execution_count": 86,
   "metadata": {},
   "outputs": [
    {
     "name": "stdout",
     "output_type": "stream",
     "text": [
      "69.45454545454545\n"
     ]
    }
   ],
   "source": [
    "selector = SelectKBest(k=2).fit(przeskelowane_trenowane, train_new[:,0] )# wybieramy k \"najlepszych\" cech\"\n",
    "Wyselektowane_treningowe = selector.transform(przeskelowane_trenowane)# wykonujemy selekce na zbiorze\n",
    "Wyselektowane_testowe = selector.transform(przeskalowane_testowe)# wykonujemy selekce na zbiorze\n",
    "\n",
    "k_nn_bez_norm = KNeighborsClassifier(n_neighbors= 3)\n",
    "k_nn_bez_norm.fit(Wyselektowane_treningowe, train_new[:,0])\n",
    "k_nn_bez_norm_list = k_nn_bez_norm.predict(Wyselektowane_testowe)\n",
    "#print(k_nn_bez_norm_list)\n",
    "dok2wyb = Accuracy(test_new, k_nn_bez_norm_list)\n",
    "print(dok2wyb)"
   ]
  },
  {
   "cell_type": "code",
   "execution_count": 87,
   "metadata": {},
   "outputs": [
    {
     "name": "stdout",
     "output_type": "stream",
     "text": [
      "[1 2 4 6 7]\n",
      "74.18181818181819\n"
     ]
    }
   ],
   "source": [
    "features = [3, 4, 6, 8, 9]\n",
    "twos = np.ones(len(features), int)*2\n",
    "features_new = features - twos\n",
    "print(features_new)\n",
    "przeskelowane_trenowane.shape\n",
    "k_nn_norm = KNeighborsClassifier(n_neighbors= 3)\n",
    "k_nn_norm.fit(przeskelowane_trenowane[:,features_new], train_new[:,0])\n",
    "k_nn_norm_list = k_nn_norm.predict(przeskalowane_testowe[:,features_new])\n",
    "dok5los = Accuracy(test_new, k_nn_norm_list)\n",
    "print(dok5los)"
   ]
  },
  {
   "cell_type": "code",
   "execution_count": 88,
   "metadata": {},
   "outputs": [
    {
     "name": "stdout",
     "output_type": "stream",
     "text": [
      "[1 7]\n",
      "61.81818181818181\n"
     ]
    }
   ],
   "source": [
    "features = [3, 9]\n",
    "twos = np.ones(len(features), int)*2\n",
    "features_new = features - twos\n",
    "print(features_new)\n",
    "przeskelowane_trenowane.shape\n",
    "k_nn_norm = KNeighborsClassifier(n_neighbors= 3)\n",
    "k_nn_norm.fit(przeskelowane_trenowane[:,features_new], train_new[:,0])\n",
    "k_nn_norm_list = k_nn_norm.predict(przeskalowane_testowe[:,features_new])\n",
    "dok2los = Accuracy(test_new, k_nn_norm_list)\n",
    "print(dok2los)"
   ]
  },
  {
   "cell_type": "code",
   "execution_count": 92,
   "metadata": {},
   "outputs": [
    {
     "data": {
      "image/png": "[encoded data removed]",
      "text/plain": [
       "<Figure size 1500x700 with 1 Axes>"
      ]
     },
     "metadata": {},
     "output_type": "display_data"
    }
   ],
   "source": [
    "import numpy as np\n",
    "import matplotlib.pyplot as plt\n",
    "\n",
    "procent_bads = [dok10los, dok5los, dok2los]\n",
    "procent_goods = [dok10wyb, dok5wyb,dok2wyb]\n",
    "bars = (10,5,2)\n",
    " \n",
    "plt.figure(figsize=(15, 7))\n",
    "plt.bar(bars, procent_bads, color = 'red', alpha=0.5, label = 'Losowane')\n",
    "plt.bar(bars, procent_goods, color = 'green', alpha=0.5, label = 'Wybrane')\n",
    " \n",
    "plt.xticks(bars, bars)\n",
    " \n",
    "plt.legend(frameon=False)\n",
    "plt.xlabel('Populacja równolicznie podzielona na 20 grup')\n",
    "plt.ylabel('% dokładności')\n",
    "plt.title('Rozkład procentowy Losowych a wybranych próbek');"
   ]
  },
  {
   "cell_type": "markdown",
   "metadata": {},
   "source": [
    "### Dla większej ilości cech wzrasta dokładność. Selekcja cech również poprawia dokładność. "
   ]
  },
  {
   "cell_type": "code",
   "execution_count": null,
   "metadata": {},
   "outputs": [],
   "source": []
  }
 ],
 "metadata": {
  "author": {
   "emails": [
    "rsusik@kis.p.lodz.pl"
   ],
   "name": "Robert Susik"
  },
  "kernelspec": {
   "display_name": "Python 3 (ipykernel)",
   "language": "python",
   "name": "python3"
  },
  "language_info": {
   "codemirror_mode": {
    "name": "ipython",
    "version": 3
   },
   "file_extension": ".py",
   "mimetype": "text/x-python",
   "name": "python",
   "nbconvert_exporter": "python",
   "pygments_lexer": "ipython3",
   "version": "3.10.10"
  },
  "toc": {
   "base_numbering": 1,
   "nav_menu": {},
   "number_sections": true,
   "sideBar": true,
   "skip_h1_title": false,
   "title_cell": "Table of Contents",
   "title_sidebar": "Contents",
   "toc_cell": false,
   "toc_position": {},
   "toc_section_display": true,
   "toc_window_display": true
  }
 },
 "nbformat": 4,
 "nbformat_minor": 4
}
